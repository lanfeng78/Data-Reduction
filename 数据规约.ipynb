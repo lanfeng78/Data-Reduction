{
  "cells": [
    {
      "cell_type": "markdown",
      "id": "c0aa5576-0f9f-436e-885c-809030a70a0a",
      "metadata": {
        "id": "c0aa5576-0f9f-436e-885c-809030a70a0a"
      },
      "source": [
        "## 使用线性判别分析（LDA）在鸢尾花数据集上进行数据规约"
      ]
    },
    {
      "cell_type": "code",
      "execution_count": 1,
      "id": "d632d550-87b6-4037-a551-f26647c16541",
      "metadata": {
        "id": "d632d550-87b6-4037-a551-f26647c16541"
      },
      "outputs": [],
      "source": [
        "# 导入鸢尾花数据集\n",
        "from sklearn.datasets import load_iris"
      ]
    },
    {
      "cell_type": "code",
      "execution_count": 17,
      "id": "c4ab67b9-46b8-438b-9f2e-0c903415f111",
      "metadata": {
        "id": "c4ab67b9-46b8-438b-9f2e-0c903415f111"
      },
      "outputs": [],
      "source": [
        "# 导入一些必要的库\n",
        "import numpy as np\n",
        "import matplotlib.pyplot as plt\n",
        "%matplotlib inline"
      ]
    },
    {
      "cell_type": "code",
      "execution_count": 3,
      "id": "c067f490-4708-4f8a-bc7e-014463a6dccb",
      "metadata": {
        "id": "c067f490-4708-4f8a-bc7e-014463a6dccb"
      },
      "outputs": [],
      "source": [
        "# 加载数据集\n",
        "iris = load_iris()\n",
        "# 分别存储数据集的行（样本）和列（特征）\n",
        "iris_X, iris_Y = iris.data, iris.target"
      ]
    },
    {
      "cell_type": "code",
      "execution_count": 4,
      "id": "5559c85c-7f88-4371-8f97-6e486df3be5b",
      "metadata": {
        "colab": {
          "base_uri": "https://localhost:8080/"
        },
        "id": "5559c85c-7f88-4371-8f97-6e486df3be5b",
        "outputId": "c9bfd066-8ddc-4e6f-ea58-07ad8cf8b6e7"
      },
      "outputs": [
        {
          "output_type": "execute_result",
          "data": {
            "text/plain": [
              "((150, 4), (150,))"
            ]
          },
          "metadata": {},
          "execution_count": 4
        }
      ],
      "source": [
        "# 查看数据的size\n",
        "iris_X.shape, iris_Y.shape"
      ]
    },
    {
      "cell_type": "code",
      "execution_count": 5,
      "id": "9183c1d2-73c6-4b4b-9772-c8c1adf24946",
      "metadata": {
        "colab": {
          "base_uri": "https://localhost:8080/"
        },
        "id": "9183c1d2-73c6-4b4b-9772-c8c1adf24946",
        "outputId": "48681212-66f7-4d16-c8bb-2349c180ed64"
      },
      "outputs": [
        {
          "output_type": "execute_result",
          "data": {
            "text/plain": [
              "array(['setosa', 'versicolor', 'virginica'], dtype='<U10')"
            ]
          },
          "metadata": {},
          "execution_count": 5
        }
      ],
      "source": [
        "# 查看数据的类别\n",
        "iris.target_names"
      ]
    },
    {
      "cell_type": "code",
      "execution_count": 6,
      "id": "b2b36711-9a0e-42da-a2a6-c12cfac31609",
      "metadata": {
        "colab": {
          "base_uri": "https://localhost:8080/"
        },
        "id": "b2b36711-9a0e-42da-a2a6-c12cfac31609",
        "outputId": "4c5330da-bc0a-465a-96c8-19ed550f3041"
      },
      "outputs": [
        {
          "output_type": "execute_result",
          "data": {
            "text/plain": [
              "['sepal length (cm)',\n",
              " 'sepal width (cm)',\n",
              " 'petal length (cm)',\n",
              " 'petal width (cm)']"
            ]
          },
          "metadata": {},
          "execution_count": 6
        }
      ],
      "source": [
        "# 查看数据的特征\n",
        "iris.feature_names"
      ]
    },
    {
      "cell_type": "code",
      "execution_count": 7,
      "id": "50105b36-f6f9-4af8-bf46-73233f20f90c",
      "metadata": {
        "id": "50105b36-f6f9-4af8-bf46-73233f20f90c"
      },
      "outputs": [],
      "source": [
        "# 将类别名与标签一一映射\n",
        "label_dict = {i:k for i,k in enumerate(iris.target_names)}"
      ]
    },
    {
      "cell_type": "code",
      "execution_count": 8,
      "id": "8f50a66c-13c1-46c2-84a8-4f26f30b952d",
      "metadata": {
        "colab": {
          "base_uri": "https://localhost:8080/"
        },
        "id": "8f50a66c-13c1-46c2-84a8-4f26f30b952d",
        "outputId": "39fc2188-853f-4692-be95-f8dc9545168a"
      },
      "outputs": [
        {
          "output_type": "execute_result",
          "data": {
            "text/plain": [
              "{0: np.str_('setosa'), 1: np.str_('versicolor'), 2: np.str_('virginica')}"
            ]
          },
          "metadata": {},
          "execution_count": 8
        }
      ],
      "source": [
        "# 查看映射\n",
        "label_dict"
      ]
    },
    {
      "cell_type": "markdown",
      "id": "3c55a7b2-9907-4dd1-b50b-0b5d0be076a9",
      "metadata": {
        "id": "3c55a7b2-9907-4dd1-b50b-0b5d0be076a9"
      },
      "source": [
        "### LDA大致分为以下五个步骤\n",
        "1. 计算每个类别的均值向量；\n",
        "2. 计算类内和类间的散布矩阵；\n",
        "3. 计算 $S_W^{-1}$·$S_B$的特征值和特征向量；\n",
        "4. 降序排列特征值，保留前k个特征向量；\n",
        "5. 使用前几个特征向量将数据投影到新空间。"
      ]
    },
    {
      "cell_type": "markdown",
      "id": "ec886cd1-1860-43d3-b3db-fe3a159ba8e8",
      "metadata": {
        "id": "ec886cd1-1860-43d3-b3db-fe3a159ba8e8"
      },
      "source": [
        "#### 1. 计算每个类别的均值向量"
      ]
    },
    {
      "cell_type": "code",
      "execution_count": 9,
      "id": "808fe5ac-d6f4-4b92-bbdb-7e28d1876341",
      "metadata": {
        "colab": {
          "base_uri": "https://localhost:8080/"
        },
        "id": "808fe5ac-d6f4-4b92-bbdb-7e28d1876341",
        "outputId": "4a3a5f4f-1cbc-4ddb-b309-0ffcd71b39b3"
      },
      "outputs": [
        {
          "output_type": "stream",
          "name": "stdout",
          "text": [
            "setosa [5.006 3.428 1.462 0.246]\n",
            "versicolor [5.936 2.77  4.26  1.326]\n",
            "virginica [6.588 2.974 5.552 2.026]\n"
          ]
        }
      ],
      "source": [
        "mean_vectors = []\n",
        "for cls in [0, 1, 2]:\n",
        "    class_mean_vector = np.mean(iris_X[iris_Y==cls],axis=0)\n",
        "    mean_vectors.append(class_mean_vector)\n",
        "    print(label_dict[cls], class_mean_vector)\n"
      ]
    },
    {
      "cell_type": "markdown",
      "id": "eefc3a9c-884d-4f2b-bc2a-5ff63f0afc52",
      "metadata": {
        "id": "eefc3a9c-884d-4f2b-bc2a-5ff63f0afc52"
      },
      "source": [
        "#### 2. 计算类内和类间的散布矩阵"
      ]
    },
    {
      "cell_type": "markdown",
      "id": "b0bfaa33-06e1-42b3-b0be-fd09a4ab64b4",
      "metadata": {
        "id": "b0bfaa33-06e1-42b3-b0be-fd09a4ab64b4"
      },
      "source": [
        "类内散布矩阵，定义如下：\n",
        "                    $S_W$ = $\\sum_{i=1}^c$ $S_i$\n",
        "\n",
        "$S_i$的定义是：\n",
        "                    $S_i$ = $\\sum_{x\\in D_i}^n$ $(x - m_i)(x-m_i)^T$\n",
        "\n",
        "其中，$m_i$代表第 $i$ 个类别的均值向量。\n",
        "\n",
        "类间散布矩阵的定义是：\n",
        "                    $S_B$ = $\\sum_{i=1}^c$ $N_i(m_i-m)(m_i-m)^T$\n",
        "\n",
        "\n",
        "$m$是数据集的总体均值，$m_i$是每个类别的样本均值，$N_i$是每个类别的样本大小（观察值数量）"
      ]
    },
    {
      "cell_type": "code",
      "execution_count": 10,
      "id": "b93b9d22-5975-4562-b08e-50f73a2ef8ae",
      "metadata": {
        "colab": {
          "base_uri": "https://localhost:8080/"
        },
        "id": "b93b9d22-5975-4562-b08e-50f73a2ef8ae",
        "outputId": "56279b73-0939-4422-ea63-9d5a8de682fc"
      },
      "outputs": [
        {
          "output_type": "stream",
          "name": "stdout",
          "text": [
            "[[38.9562 13.63   24.6246  5.645 ]\n",
            " [13.63   16.962   8.1208  4.8084]\n",
            " [24.6246  8.1208 27.2226  6.2718]\n",
            " [ 5.645   4.8084  6.2718  6.1566]]\n"
          ]
        }
      ],
      "source": [
        "# 类内散布矩阵\n",
        "S_W = np.zeros((4,4))\n",
        "for cls, mv in zip(range(3), mean_vectors):\n",
        "    S_cls = np.zeros((4,4))\n",
        "    for row in iris_X[iris_Y == cls]:\n",
        "        row, mv = row.reshape(4,1), mv.reshape(4,1)\n",
        "        S_cls += (row-mv).dot((row-mv).T)\n",
        "    S_W += S_cls\n",
        "\n",
        "print(S_W)"
      ]
    },
    {
      "cell_type": "code",
      "execution_count": 11,
      "id": "17366fc8-024f-4675-8ef5-916a2fa596cd",
      "metadata": {
        "colab": {
          "base_uri": "https://localhost:8080/"
        },
        "id": "17366fc8-024f-4675-8ef5-916a2fa596cd",
        "outputId": "ca037e4d-c9cc-491d-b5bd-9604f3706645"
      },
      "outputs": [
        {
          "output_type": "stream",
          "name": "stdout",
          "text": [
            "[[ 63.21213333 -19.95266667 165.2484      71.27933333]\n",
            " [-19.95266667  11.34493333 -57.2396     -22.93266667]\n",
            " [165.2484     -57.2396     437.1028     186.774     ]\n",
            " [ 71.27933333 -22.93266667 186.774       80.41333333]]\n"
          ]
        }
      ],
      "source": [
        "# 类间散布矩阵\n",
        "all_mean = np.mean(iris_X, axis=0).reshape(4,1)\n",
        "S_B = np.zeros((4,4))\n",
        "for cls, mv in zip(range(3), mean_vectors):\n",
        "    mv = mv.reshape(4,1)\n",
        "    S_B += len(iris_X[iris_Y == cls])*(mv-all_mean).dot((mv-all_mean).T)\n",
        "\n",
        "print(S_B)"
      ]
    },
    {
      "cell_type": "markdown",
      "id": "40792182-0991-4e88-b09d-d0501c76adf5",
      "metadata": {
        "id": "40792182-0991-4e88-b09d-d0501c76adf5"
      },
      "source": [
        "#### 3. 计算 $S_W^{-1}$·$S_B$的特征值和特征向量；"
      ]
    },
    {
      "cell_type": "code",
      "execution_count": 29,
      "id": "223238ea-ff1c-4665-856f-62a113efac67",
      "metadata": {
        "colab": {
          "base_uri": "https://localhost:8080/"
        },
        "id": "223238ea-ff1c-4665-856f-62a113efac67",
        "outputId": "c891de37-959c-406c-ef06-aa9bd638bfb9"
      },
      "outputs": [
        {
          "output_type": "stream",
          "name": "stdout",
          "text": [
            "特征向量 1: [-0.20874182 -0.38620369  0.55401172  0.7073504 ]\n",
            "特征值 1: 32.191929198278025\n",
            "特征向量 2: [-0.00653196 -0.58661055  0.25256154 -0.76945309]\n",
            "特征值 2: 0.28539104262306647\n",
            "特征向量 3: [-0.14156417 -0.212536   -0.27030318  0.69269842]\n",
            "特征值 3: -2.8907453147977534e-15\n",
            "特征向量 4: [-0.14156417 -0.212536   -0.27030318  0.69269842]\n",
            "特征值 4: -2.8907453147977534e-15\n"
          ]
        }
      ],
      "source": [
        "eig_vals, eig_vecs = np.linalg.eig(np.dot(np.linalg.inv(S_W), S_B))\n",
        "eig_vals = eig_vals.real\n",
        "eig_vecs = eig_vecs.real\n",
        "for i in range(len(eig_vals)):\n",
        "    eig_vec_cls = eig_vecs[:,i]\n",
        "    print('特征向量 {}: {}'.format(i+1, eig_vec_cls))\n",
        "    print('特征值 {}: {}'.format(i+1, eig_vals[i]))"
      ]
    },
    {
      "cell_type": "markdown",
      "source": [
        "注意第三个和第四个特征值几乎是 0，这是因为 LDA 的工作方式是在类间划分决策边界。"
      ],
      "metadata": {
        "id": "jRkRo58QMH7g"
      },
      "id": "jRkRo58QMH7g"
    },
    {
      "cell_type": "markdown",
      "id": "8a3d480f-3d5a-418c-b7cc-8cfbbf4af3ab",
      "metadata": {
        "id": "8a3d480f-3d5a-418c-b7cc-8cfbbf4af3ab"
      },
      "source": [
        "#### 4. 降序排列特征值，保留前k个特征向量"
      ]
    },
    {
      "cell_type": "markdown",
      "source": [
        "因为LDA的工作方式是在类间划分决策边界。考虑到鸢尾花数据中只有 3 个类别，我们可能只需要 2 个决策边界。通常来说，用 LDA拟合 n 个类别的数据集，最多只需要 n-1 次切割。"
      ],
      "metadata": {
        "id": "fT0i4XmCK0kA"
      },
      "id": "fT0i4XmCK0kA"
    },
    {
      "cell_type": "code",
      "execution_count": 30,
      "id": "bfd9c2f3-9c54-461a-baa3-bf846b60e29f",
      "metadata": {
        "colab": {
          "base_uri": "https://localhost:8080/"
        },
        "id": "bfd9c2f3-9c54-461a-baa3-bf846b60e29f",
        "outputId": "697db34e-219e-4f2a-eccf-0f5cba97996c"
      },
      "outputs": [
        {
          "output_type": "execute_result",
          "data": {
            "text/plain": [
              "array([[-0.20874182, -0.38620369,  0.55401172,  0.7073504 ],\n",
              "       [-0.00653196, -0.58661055,  0.25256154, -0.76945309]])"
            ]
          },
          "metadata": {},
          "execution_count": 30
        }
      ],
      "source": [
        "# 保留最有用的特征向量\n",
        "linear_discriminants = eig_vecs.T[:2]\n",
        "\n",
        "linear_discriminants"
      ]
    },
    {
      "cell_type": "markdown",
      "source": [
        "用每个特征值除以特征值的和，可以查看每个类别（线性判别式）解释总方差的比例："
      ],
      "metadata": {
        "id": "Vsgacr69MxoU"
      },
      "id": "Vsgacr69MxoU"
    },
    {
      "cell_type": "code",
      "source": [
        "eig_vals / eig_vals.sum()"
      ],
      "metadata": {
        "colab": {
          "base_uri": "https://localhost:8080/"
        },
        "id": "HRcbPVpRM7Oo",
        "outputId": "50385572-10a9-43c7-f158-ec04f5fbed4d"
      },
      "id": "HRcbPVpRM7Oo",
      "execution_count": 31,
      "outputs": [
        {
          "output_type": "execute_result",
          "data": {
            "text/plain": [
              "array([ 9.91212605e-01,  8.78739503e-03, -8.90081230e-17, -8.90081230e-17])"
            ]
          },
          "metadata": {},
          "execution_count": 31
        }
      ]
    },
    {
      "cell_type": "markdown",
      "source": [
        "可以看到第一个判别式所占比例最大，拥有超过99％的信息"
      ],
      "metadata": {
        "id": "VjSL30XkNFKR"
      },
      "id": "VjSL30XkNFKR"
    },
    {
      "cell_type": "markdown",
      "source": [
        "#### 使用前几个特征向量投影到新空间"
      ],
      "metadata": {
        "id": "m6jYV3e4Nddf"
      },
      "id": "m6jYV3e4Nddf"
    },
    {
      "cell_type": "markdown",
      "source": [
        "现在我们有了所有的线性判别式，先用特征向量将鸢尾花数据集投影到新空间，然后用 plot\n",
        "函数绘制投影数据"
      ],
      "metadata": {
        "id": "yFC61OUeOQNh"
      },
      "id": "yFC61OUeOQNh"
    },
    {
      "cell_type": "code",
      "source": [
        "# 定义一个画图函数\n",
        "def plot(X, y, title, x_label, y_label):\n",
        "  ax = plt.subplot(111)\n",
        "  for label,marker,color in zip(range(3),('^', 's', 'o'),('blue', 'red', 'green')):\n",
        "    plt.scatter(x=X[:,0].real[y == label], y=X[:,1].real[y == label], color=color, alpha=0.5, label=label_dict[label] )\n",
        "    plt.xlabel(x_label)\n",
        "    plt.ylabel(y_label)\n",
        "  leg = plt.legend(loc='upper right', fancybox=True)\n",
        "  leg.get_frame().set_alpha(0.5)\n",
        "  plt.title(title)"
      ],
      "metadata": {
        "id": "7CdDOAs1SFpD"
      },
      "id": "7CdDOAs1SFpD",
      "execution_count": 42,
      "outputs": []
    },
    {
      "cell_type": "code",
      "source": [
        "# LDA投影数据\n",
        "lda_iris_projection = np.dot(iris_X, linear_discriminants.T)\n",
        "lda_iris_projection[:5,]\n",
        "\n",
        "plot(lda_iris_projection, iris_Y, 'LDA Projection', 'LDA1', 'LDA2')"
      ],
      "metadata": {
        "colab": {
          "base_uri": "https://localhost:8080/",
          "height": 472
        },
        "id": "kzImKgz8N8Jn",
        "outputId": "ec93de18-7813-49ff-e376-9f16ef73a174"
      },
      "id": "kzImKgz8N8Jn",
      "execution_count": 41,
      "outputs": [
        {
          "output_type": "display_data",
          "data": {
            "text/plain": [
              "<Figure size 640x480 with 1 Axes>"
            ],
            "image/png": "[encoded data removed]"
          },
          "metadata": {}
        }
      ]
    },
    {
      "cell_type": "markdown",
      "source": [
        "可以看到在图中不同类别的数据几乎完全分离开了，\n",
        "因为 LDA 会绘制决策边界，提供特征向量/线性判别式，从而帮助机器学习模型尽可能分离各种花。这有助于将数据投影到每个类别都尽可能分散的空间中。"
      ],
      "metadata": {
        "id": "ZbZW2PQ9S5Cq"
      },
      "id": "ZbZW2PQ9S5Cq"
    },
    {
      "cell_type": "markdown",
      "source": [
        "## 使用scikit-learn库中的LDA算法在鸢尾花数据集上进行分类任务"
      ],
      "metadata": {
        "id": "jj6AJAp0WVcL"
      },
      "id": "jj6AJAp0WVcL"
    },
    {
      "cell_type": "markdown",
      "source": [
        "在上面，我们人工实现了 LDA 算法的核心部分，而其实在 sklearn 库中已经帮我们实现好了，下面我会使用库中的函数在之前提到的鸢尾花数据集上完成一个简单的分类任务"
      ],
      "metadata": {
        "id": "0zSJ2vvaXBKF"
      },
      "id": "0zSJ2vvaXBKF"
    },
    {
      "cell_type": "code",
      "source": [
        "from sklearn.model_selection import cross_val_score\n",
        "from sklearn.pipeline import Pipeline\n",
        "from sklearn.neighbors import KNeighborsClassifier\n",
        "\n",
        "from sklearn.discriminant_analysis import LinearDiscriminantAnalysis"
      ],
      "metadata": {
        "id": "lnRXRbR8WUP7"
      },
      "id": "lnRXRbR8WUP7",
      "execution_count": 49,
      "outputs": []
    },
    {
      "cell_type": "markdown",
      "source": [
        "我们用K最近邻（KNN）作为有监督模型，用流水线模块将KNN模型和特征转换工具结合\n",
        "起来，创建一个可以使用 cross_val_score 模块进行交叉验证的机器学习流水线。"
      ],
      "metadata": {
        "id": "atpQt1HmaeqH"
      },
      "id": "atpQt1HmaeqH"
    },
    {
      "cell_type": "code",
      "source": [
        "# 创建有一个判别式的 LDA 模块\n",
        "lda_one = LinearDiscriminantAnalysis(n_components=1)\n",
        "# 实例化 KNN 模型\n",
        "knn = KNeighborsClassifier(n_neighbors=3)\n"
      ],
      "metadata": {
        "id": "95y-KreyTJjI"
      },
      "id": "95y-KreyTJjI",
      "execution_count": 59,
      "outputs": []
    },
    {
      "cell_type": "markdown",
      "source": [
        "不用做任何转换，调用KNN模型，来取一个基线准确率。我们将用它来对比LDA究竟对模型有何提升"
      ],
      "metadata": {
        "id": "4izsqnSGbMtG"
      },
      "id": "4izsqnSGbMtG"
    },
    {
      "cell_type": "code",
      "source": [
        "# 不用特征转换，用 KNN 进行交叉验证\n",
        "knn_average = cross_val_score(knn, iris_X, iris_Y).mean()\n",
        "# 这是基线准确率。如果什么也不做，KNN 的准确率是 96.7%\n",
        "knn_average"
      ],
      "metadata": {
        "colab": {
          "base_uri": "https://localhost:8080/"
        },
        "id": "KkQko357Zuwt",
        "outputId": "fdd7bb7b-7b71-45db-cb96-5cff6dc2b1a4"
      },
      "id": "KkQko357Zuwt",
      "execution_count": 60,
      "outputs": [
        {
          "output_type": "execute_result",
          "data": {
            "text/plain": [
              "np.float64(0.9666666666666668)"
            ]
          },
          "metadata": {},
          "execution_count": 60
        }
      ]
    },
    {
      "cell_type": "markdown",
      "source": [
        "knn的基线准确率为96.7％，我们使用LDA，只保留其中最好的线性判别式"
      ],
      "metadata": {
        "id": "S3Bly6hpb_js"
      },
      "id": "S3Bly6hpb_js"
    },
    {
      "cell_type": "code",
      "source": [
        "lda_pipeline = Pipeline([('lda',lda_one), ('knn',knn)])\n",
        "lda_average = cross_val_score(lda_pipeline, iris_X, iris_Y).mean()\n",
        "\n",
        "lda_average"
      ],
      "metadata": {
        "colab": {
          "base_uri": "https://localhost:8080/"
        },
        "id": "8Od94jR6bfsj",
        "outputId": "e04686b5-d1a5-47d6-fa3c-5e16166cc0bc"
      },
      "id": "8Od94jR6bfsj",
      "execution_count": 61,
      "outputs": [
        {
          "output_type": "execute_result",
          "data": {
            "text/plain": [
              "np.float64(0.9666666666666666)"
            ]
          },
          "metadata": {},
          "execution_count": 61
        }
      ]
    },
    {
      "cell_type": "markdown",
      "source": [
        "可以看到当使用一个线性判别式时，精度反而不如原始的knn模型，因此我们试试用两个判别式的LDA会有如何表现"
      ],
      "metadata": {
        "id": "3gvn0x9sdW04"
      },
      "id": "3gvn0x9sdW04"
    },
    {
      "cell_type": "code",
      "source": [
        "lda_two = LinearDiscriminantAnalysis(n_components=2)\n",
        "lda_pipeline2 = Pipeline([('lda',lda_two),('knn',knn)])\n",
        "\n",
        "lda_average2 = cross_val_score(lda_pipeline2, iris_X, iris_Y).mean()\n",
        "\n",
        "lda_average2"
      ],
      "metadata": {
        "colab": {
          "base_uri": "https://localhost:8080/"
        },
        "id": "R5Grmep-dAHS",
        "outputId": "97d98e66-dc01-4cdf-c266-2db23c4acc81"
      },
      "id": "R5Grmep-dAHS",
      "execution_count": 62,
      "outputs": [
        {
          "output_type": "execute_result",
          "data": {
            "text/plain": [
              "np.float64(0.9733333333333334)"
            ]
          },
          "metadata": {},
          "execution_count": 62
        }
      ]
    },
    {
      "cell_type": "markdown",
      "source": [
        "可以发现当判别式变为2时，精度确实上升了，证明LDA算法确实在特征变换时是有用的。"
      ],
      "metadata": {
        "id": "AaUsujFPhey5"
      },
      "id": "AaUsujFPhey5"
    }
  ],
  "metadata": {
    "kernelspec": {
      "display_name": "Python 3 (ipykernel)",
      "language": "python",
      "name": "python3"
    },
    "language_info": {
      "codemirror_mode": {
        "name": "ipython",
        "version": 3
      },
      "file_extension": ".py",
      "mimetype": "text/x-python",
      "name": "python",
      "nbconvert_exporter": "python",
      "pygments_lexer": "ipython3",
      "version": "3.11.0"
    },
    "colab": {
      "provenance": []
    }
  },
  "nbformat": 4,
  "nbformat_minor": 5
}